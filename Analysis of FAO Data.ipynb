{
 "cells": [
  {
   "cell_type": "code",
   "execution_count": 1,
   "id": "92d28b1e",
   "metadata": {},
   "outputs": [],
   "source": [
    "#importing libraries\n",
    "import pandas as pd\n",
    "import numpy as np"
   ]
  },
  {
   "cell_type": "code",
   "execution_count": 2,
   "id": "42472aae",
   "metadata": {},
   "outputs": [],
   "source": [
    "#reading the data\n",
    "df=pd.read_csv(\"C:\\\\Users\\\\ACE\\Desktop\\\\FoodBalanceSheets_E_Africa_NOFLAG.csv\", encoding='Latin-1')"
   ]
  },
  {
   "cell_type": "code",
   "execution_count": 3,
   "id": "45d78a5c",
   "metadata": {},
   "outputs": [
    {
     "data": {
      "text/html": [
       "<div>\n",
       "<style scoped>\n",
       "    .dataframe tbody tr th:only-of-type {\n",
       "        vertical-align: middle;\n",
       "    }\n",
       "\n",
       "    .dataframe tbody tr th {\n",
       "        vertical-align: top;\n",
       "    }\n",
       "\n",
       "    .dataframe thead th {\n",
       "        text-align: right;\n",
       "    }\n",
       "</style>\n",
       "<table border=\"1\" class=\"dataframe\">\n",
       "  <thead>\n",
       "    <tr style=\"text-align: right;\">\n",
       "      <th></th>\n",
       "      <th>Area Code</th>\n",
       "      <th>Area</th>\n",
       "      <th>Item Code</th>\n",
       "      <th>Item</th>\n",
       "      <th>Element Code</th>\n",
       "      <th>Element</th>\n",
       "      <th>Unit</th>\n",
       "      <th>Y2014</th>\n",
       "      <th>Y2015</th>\n",
       "      <th>Y2016</th>\n",
       "      <th>Y2017</th>\n",
       "      <th>Y2018</th>\n",
       "    </tr>\n",
       "  </thead>\n",
       "  <tbody>\n",
       "    <tr>\n",
       "      <th>0</th>\n",
       "      <td>4</td>\n",
       "      <td>Algeria</td>\n",
       "      <td>2501</td>\n",
       "      <td>Population</td>\n",
       "      <td>511</td>\n",
       "      <td>Total Population - Both sexes</td>\n",
       "      <td>1000 persons</td>\n",
       "      <td>38924.00</td>\n",
       "      <td>39728.00</td>\n",
       "      <td>40551.00</td>\n",
       "      <td>41389.00</td>\n",
       "      <td>42228.00</td>\n",
       "    </tr>\n",
       "    <tr>\n",
       "      <th>1</th>\n",
       "      <td>4</td>\n",
       "      <td>Algeria</td>\n",
       "      <td>2501</td>\n",
       "      <td>Population</td>\n",
       "      <td>5301</td>\n",
       "      <td>Domestic supply quantity</td>\n",
       "      <td>1000 tonnes</td>\n",
       "      <td>0.00</td>\n",
       "      <td>0.00</td>\n",
       "      <td>0.00</td>\n",
       "      <td>0.00</td>\n",
       "      <td>0.00</td>\n",
       "    </tr>\n",
       "    <tr>\n",
       "      <th>2</th>\n",
       "      <td>4</td>\n",
       "      <td>Algeria</td>\n",
       "      <td>2901</td>\n",
       "      <td>Grand Total</td>\n",
       "      <td>664</td>\n",
       "      <td>Food supply (kcal/capita/day)</td>\n",
       "      <td>kcal/capita/day</td>\n",
       "      <td>3377.00</td>\n",
       "      <td>3379.00</td>\n",
       "      <td>3372.00</td>\n",
       "      <td>3341.00</td>\n",
       "      <td>3322.00</td>\n",
       "    </tr>\n",
       "    <tr>\n",
       "      <th>3</th>\n",
       "      <td>4</td>\n",
       "      <td>Algeria</td>\n",
       "      <td>2901</td>\n",
       "      <td>Grand Total</td>\n",
       "      <td>674</td>\n",
       "      <td>Protein supply quantity (g/capita/day)</td>\n",
       "      <td>g/capita/day</td>\n",
       "      <td>94.90</td>\n",
       "      <td>94.35</td>\n",
       "      <td>94.72</td>\n",
       "      <td>92.82</td>\n",
       "      <td>91.83</td>\n",
       "    </tr>\n",
       "    <tr>\n",
       "      <th>4</th>\n",
       "      <td>4</td>\n",
       "      <td>Algeria</td>\n",
       "      <td>2901</td>\n",
       "      <td>Grand Total</td>\n",
       "      <td>684</td>\n",
       "      <td>Fat supply quantity (g/capita/day)</td>\n",
       "      <td>g/capita/day</td>\n",
       "      <td>80.06</td>\n",
       "      <td>79.36</td>\n",
       "      <td>77.40</td>\n",
       "      <td>80.19</td>\n",
       "      <td>77.28</td>\n",
       "    </tr>\n",
       "  </tbody>\n",
       "</table>\n",
       "</div>"
      ],
      "text/plain": [
       "   Area Code     Area  Item Code         Item  Element Code  \\\n",
       "0          4  Algeria       2501   Population           511   \n",
       "1          4  Algeria       2501   Population          5301   \n",
       "2          4  Algeria       2901  Grand Total           664   \n",
       "3          4  Algeria       2901  Grand Total           674   \n",
       "4          4  Algeria       2901  Grand Total           684   \n",
       "\n",
       "                                  Element             Unit     Y2014  \\\n",
       "0           Total Population - Both sexes     1000 persons  38924.00   \n",
       "1                Domestic supply quantity      1000 tonnes      0.00   \n",
       "2           Food supply (kcal/capita/day)  kcal/capita/day   3377.00   \n",
       "3  Protein supply quantity (g/capita/day)     g/capita/day     94.90   \n",
       "4      Fat supply quantity (g/capita/day)     g/capita/day     80.06   \n",
       "\n",
       "      Y2015     Y2016     Y2017     Y2018  \n",
       "0  39728.00  40551.00  41389.00  42228.00  \n",
       "1      0.00      0.00      0.00      0.00  \n",
       "2   3379.00   3372.00   3341.00   3322.00  \n",
       "3     94.35     94.72     92.82     91.83  \n",
       "4     79.36     77.40     80.19     77.28  "
      ]
     },
     "execution_count": 3,
     "metadata": {},
     "output_type": "execute_result"
    }
   ],
   "source": [
    "#first 5 rows\n",
    "df.head()"
   ]
  },
  {
   "cell_type": "code",
   "execution_count": 4,
   "id": "f45db0db",
   "metadata": {},
   "outputs": [
    {
     "name": "stdout",
     "output_type": "stream",
     "text": [
      "<class 'pandas.core.frame.DataFrame'>\n",
      "RangeIndex: 60943 entries, 0 to 60942\n",
      "Data columns (total 12 columns):\n",
      " #   Column        Non-Null Count  Dtype  \n",
      "---  ------        --------------  -----  \n",
      " 0   Area Code     60943 non-null  int64  \n",
      " 1   Area          60943 non-null  object \n",
      " 2   Item Code     60943 non-null  int64  \n",
      " 3   Item          60943 non-null  object \n",
      " 4   Element Code  60943 non-null  int64  \n",
      " 5   Element       60943 non-null  object \n",
      " 6   Unit          60943 non-null  object \n",
      " 7   Y2014         59354 non-null  float64\n",
      " 8   Y2015         59395 non-null  float64\n",
      " 9   Y2016         59408 non-null  float64\n",
      " 10  Y2017         59437 non-null  float64\n",
      " 11  Y2018         59507 non-null  float64\n",
      "dtypes: float64(5), int64(3), object(4)\n",
      "memory usage: 5.6+ MB\n"
     ]
    }
   ],
   "source": [
    "df.info()"
   ]
  },
  {
   "cell_type": "code",
   "execution_count": 5,
   "id": "ba7e4d93",
   "metadata": {},
   "outputs": [
    {
     "data": {
      "text/plain": [
       "(60943, 12)"
      ]
     },
     "execution_count": 5,
     "metadata": {},
     "output_type": "execute_result"
    }
   ],
   "source": [
    "df.shape"
   ]
  },
  {
   "cell_type": "code",
   "execution_count": 6,
   "id": "e300268b",
   "metadata": {},
   "outputs": [
    {
     "data": {
      "text/html": [
       "<div>\n",
       "<style scoped>\n",
       "    .dataframe tbody tr th:only-of-type {\n",
       "        vertical-align: middle;\n",
       "    }\n",
       "\n",
       "    .dataframe tbody tr th {\n",
       "        vertical-align: top;\n",
       "    }\n",
       "\n",
       "    .dataframe thead th {\n",
       "        text-align: right;\n",
       "    }\n",
       "</style>\n",
       "<table border=\"1\" class=\"dataframe\">\n",
       "  <thead>\n",
       "    <tr style=\"text-align: right;\">\n",
       "      <th></th>\n",
       "      <th>Area Code</th>\n",
       "      <th>Item Code</th>\n",
       "      <th>Element Code</th>\n",
       "      <th>Y2014</th>\n",
       "      <th>Y2015</th>\n",
       "      <th>Y2016</th>\n",
       "      <th>Y2017</th>\n",
       "      <th>Y2018</th>\n",
       "    </tr>\n",
       "  </thead>\n",
       "  <tbody>\n",
       "    <tr>\n",
       "      <th>count</th>\n",
       "      <td>60943.000000</td>\n",
       "      <td>60943.000000</td>\n",
       "      <td>60943.000000</td>\n",
       "      <td>59354.000000</td>\n",
       "      <td>59395.000000</td>\n",
       "      <td>59408.000000</td>\n",
       "      <td>59437.000000</td>\n",
       "      <td>59507.000000</td>\n",
       "    </tr>\n",
       "    <tr>\n",
       "      <th>mean</th>\n",
       "      <td>134.265576</td>\n",
       "      <td>2687.176706</td>\n",
       "      <td>3814.856456</td>\n",
       "      <td>134.196282</td>\n",
       "      <td>135.235966</td>\n",
       "      <td>136.555222</td>\n",
       "      <td>140.917765</td>\n",
       "      <td>143.758381</td>\n",
       "    </tr>\n",
       "    <tr>\n",
       "      <th>std</th>\n",
       "      <td>72.605709</td>\n",
       "      <td>146.055739</td>\n",
       "      <td>2212.007033</td>\n",
       "      <td>1567.663696</td>\n",
       "      <td>1603.403984</td>\n",
       "      <td>1640.007194</td>\n",
       "      <td>1671.862359</td>\n",
       "      <td>1710.782658</td>\n",
       "    </tr>\n",
       "    <tr>\n",
       "      <th>min</th>\n",
       "      <td>4.000000</td>\n",
       "      <td>2501.000000</td>\n",
       "      <td>511.000000</td>\n",
       "      <td>-1796.000000</td>\n",
       "      <td>-3161.000000</td>\n",
       "      <td>-3225.000000</td>\n",
       "      <td>-1582.000000</td>\n",
       "      <td>-3396.000000</td>\n",
       "    </tr>\n",
       "    <tr>\n",
       "      <th>25%</th>\n",
       "      <td>74.000000</td>\n",
       "      <td>2562.000000</td>\n",
       "      <td>684.000000</td>\n",
       "      <td>0.000000</td>\n",
       "      <td>0.000000</td>\n",
       "      <td>0.000000</td>\n",
       "      <td>0.000000</td>\n",
       "      <td>0.000000</td>\n",
       "    </tr>\n",
       "    <tr>\n",
       "      <th>50%</th>\n",
       "      <td>136.000000</td>\n",
       "      <td>2630.000000</td>\n",
       "      <td>5142.000000</td>\n",
       "      <td>0.090000</td>\n",
       "      <td>0.080000</td>\n",
       "      <td>0.080000</td>\n",
       "      <td>0.100000</td>\n",
       "      <td>0.070000</td>\n",
       "    </tr>\n",
       "    <tr>\n",
       "      <th>75%</th>\n",
       "      <td>195.000000</td>\n",
       "      <td>2775.000000</td>\n",
       "      <td>5511.000000</td>\n",
       "      <td>8.340000</td>\n",
       "      <td>8.460000</td>\n",
       "      <td>8.430000</td>\n",
       "      <td>9.000000</td>\n",
       "      <td>9.000000</td>\n",
       "    </tr>\n",
       "    <tr>\n",
       "      <th>max</th>\n",
       "      <td>276.000000</td>\n",
       "      <td>2961.000000</td>\n",
       "      <td>5911.000000</td>\n",
       "      <td>176405.000000</td>\n",
       "      <td>181137.000000</td>\n",
       "      <td>185960.000000</td>\n",
       "      <td>190873.000000</td>\n",
       "      <td>195875.000000</td>\n",
       "    </tr>\n",
       "  </tbody>\n",
       "</table>\n",
       "</div>"
      ],
      "text/plain": [
       "          Area Code     Item Code  Element Code          Y2014          Y2015  \\\n",
       "count  60943.000000  60943.000000  60943.000000   59354.000000   59395.000000   \n",
       "mean     134.265576   2687.176706   3814.856456     134.196282     135.235966   \n",
       "std       72.605709    146.055739   2212.007033    1567.663696    1603.403984   \n",
       "min        4.000000   2501.000000    511.000000   -1796.000000   -3161.000000   \n",
       "25%       74.000000   2562.000000    684.000000       0.000000       0.000000   \n",
       "50%      136.000000   2630.000000   5142.000000       0.090000       0.080000   \n",
       "75%      195.000000   2775.000000   5511.000000       8.340000       8.460000   \n",
       "max      276.000000   2961.000000   5911.000000  176405.000000  181137.000000   \n",
       "\n",
       "               Y2016          Y2017          Y2018  \n",
       "count   59408.000000   59437.000000   59507.000000  \n",
       "mean      136.555222     140.917765     143.758381  \n",
       "std      1640.007194    1671.862359    1710.782658  \n",
       "min     -3225.000000   -1582.000000   -3396.000000  \n",
       "25%         0.000000       0.000000       0.000000  \n",
       "50%         0.080000       0.100000       0.070000  \n",
       "75%         8.430000       9.000000       9.000000  \n",
       "max    185960.000000  190873.000000  195875.000000  "
      ]
     },
     "execution_count": 6,
     "metadata": {},
     "output_type": "execute_result"
    }
   ],
   "source": [
    "df.describe()"
   ]
  },
  {
   "cell_type": "code",
   "execution_count": 7,
   "id": "c989b4ce",
   "metadata": {},
   "outputs": [
    {
     "data": {
      "text/html": [
       "<div>\n",
       "<style scoped>\n",
       "    .dataframe tbody tr th:only-of-type {\n",
       "        vertical-align: middle;\n",
       "    }\n",
       "\n",
       "    .dataframe tbody tr th {\n",
       "        vertical-align: top;\n",
       "    }\n",
       "\n",
       "    .dataframe thead th {\n",
       "        text-align: right;\n",
       "    }\n",
       "</style>\n",
       "<table border=\"1\" class=\"dataframe\">\n",
       "  <thead>\n",
       "    <tr style=\"text-align: right;\">\n",
       "      <th></th>\n",
       "      <th>Area Code</th>\n",
       "      <th>Area</th>\n",
       "      <th>Item Code</th>\n",
       "      <th>Item</th>\n",
       "      <th>Element Code</th>\n",
       "      <th>Element</th>\n",
       "      <th>Unit</th>\n",
       "      <th>Y2014</th>\n",
       "      <th>Y2015</th>\n",
       "      <th>Y2016</th>\n",
       "      <th>Y2017</th>\n",
       "      <th>Y2018</th>\n",
       "    </tr>\n",
       "  </thead>\n",
       "  <tbody>\n",
       "    <tr>\n",
       "      <th>0</th>\n",
       "      <td>False</td>\n",
       "      <td>False</td>\n",
       "      <td>False</td>\n",
       "      <td>False</td>\n",
       "      <td>False</td>\n",
       "      <td>False</td>\n",
       "      <td>False</td>\n",
       "      <td>False</td>\n",
       "      <td>False</td>\n",
       "      <td>False</td>\n",
       "      <td>False</td>\n",
       "      <td>False</td>\n",
       "    </tr>\n",
       "    <tr>\n",
       "      <th>1</th>\n",
       "      <td>False</td>\n",
       "      <td>False</td>\n",
       "      <td>False</td>\n",
       "      <td>False</td>\n",
       "      <td>False</td>\n",
       "      <td>False</td>\n",
       "      <td>False</td>\n",
       "      <td>False</td>\n",
       "      <td>False</td>\n",
       "      <td>False</td>\n",
       "      <td>False</td>\n",
       "      <td>False</td>\n",
       "    </tr>\n",
       "    <tr>\n",
       "      <th>2</th>\n",
       "      <td>False</td>\n",
       "      <td>False</td>\n",
       "      <td>False</td>\n",
       "      <td>False</td>\n",
       "      <td>False</td>\n",
       "      <td>False</td>\n",
       "      <td>False</td>\n",
       "      <td>False</td>\n",
       "      <td>False</td>\n",
       "      <td>False</td>\n",
       "      <td>False</td>\n",
       "      <td>False</td>\n",
       "    </tr>\n",
       "    <tr>\n",
       "      <th>3</th>\n",
       "      <td>False</td>\n",
       "      <td>False</td>\n",
       "      <td>False</td>\n",
       "      <td>False</td>\n",
       "      <td>False</td>\n",
       "      <td>False</td>\n",
       "      <td>False</td>\n",
       "      <td>False</td>\n",
       "      <td>False</td>\n",
       "      <td>False</td>\n",
       "      <td>False</td>\n",
       "      <td>False</td>\n",
       "    </tr>\n",
       "    <tr>\n",
       "      <th>4</th>\n",
       "      <td>False</td>\n",
       "      <td>False</td>\n",
       "      <td>False</td>\n",
       "      <td>False</td>\n",
       "      <td>False</td>\n",
       "      <td>False</td>\n",
       "      <td>False</td>\n",
       "      <td>False</td>\n",
       "      <td>False</td>\n",
       "      <td>False</td>\n",
       "      <td>False</td>\n",
       "      <td>False</td>\n",
       "    </tr>\n",
       "    <tr>\n",
       "      <th>...</th>\n",
       "      <td>...</td>\n",
       "      <td>...</td>\n",
       "      <td>...</td>\n",
       "      <td>...</td>\n",
       "      <td>...</td>\n",
       "      <td>...</td>\n",
       "      <td>...</td>\n",
       "      <td>...</td>\n",
       "      <td>...</td>\n",
       "      <td>...</td>\n",
       "      <td>...</td>\n",
       "      <td>...</td>\n",
       "    </tr>\n",
       "    <tr>\n",
       "      <th>60938</th>\n",
       "      <td>False</td>\n",
       "      <td>False</td>\n",
       "      <td>False</td>\n",
       "      <td>False</td>\n",
       "      <td>False</td>\n",
       "      <td>False</td>\n",
       "      <td>False</td>\n",
       "      <td>False</td>\n",
       "      <td>False</td>\n",
       "      <td>False</td>\n",
       "      <td>False</td>\n",
       "      <td>False</td>\n",
       "    </tr>\n",
       "    <tr>\n",
       "      <th>60939</th>\n",
       "      <td>False</td>\n",
       "      <td>False</td>\n",
       "      <td>False</td>\n",
       "      <td>False</td>\n",
       "      <td>False</td>\n",
       "      <td>False</td>\n",
       "      <td>False</td>\n",
       "      <td>False</td>\n",
       "      <td>False</td>\n",
       "      <td>False</td>\n",
       "      <td>False</td>\n",
       "      <td>False</td>\n",
       "    </tr>\n",
       "    <tr>\n",
       "      <th>60940</th>\n",
       "      <td>False</td>\n",
       "      <td>False</td>\n",
       "      <td>False</td>\n",
       "      <td>False</td>\n",
       "      <td>False</td>\n",
       "      <td>False</td>\n",
       "      <td>False</td>\n",
       "      <td>False</td>\n",
       "      <td>False</td>\n",
       "      <td>False</td>\n",
       "      <td>False</td>\n",
       "      <td>False</td>\n",
       "    </tr>\n",
       "    <tr>\n",
       "      <th>60941</th>\n",
       "      <td>False</td>\n",
       "      <td>False</td>\n",
       "      <td>False</td>\n",
       "      <td>False</td>\n",
       "      <td>False</td>\n",
       "      <td>False</td>\n",
       "      <td>False</td>\n",
       "      <td>False</td>\n",
       "      <td>False</td>\n",
       "      <td>False</td>\n",
       "      <td>False</td>\n",
       "      <td>False</td>\n",
       "    </tr>\n",
       "    <tr>\n",
       "      <th>60942</th>\n",
       "      <td>False</td>\n",
       "      <td>False</td>\n",
       "      <td>False</td>\n",
       "      <td>False</td>\n",
       "      <td>False</td>\n",
       "      <td>False</td>\n",
       "      <td>False</td>\n",
       "      <td>False</td>\n",
       "      <td>False</td>\n",
       "      <td>False</td>\n",
       "      <td>False</td>\n",
       "      <td>False</td>\n",
       "    </tr>\n",
       "  </tbody>\n",
       "</table>\n",
       "<p>60943 rows × 12 columns</p>\n",
       "</div>"
      ],
      "text/plain": [
       "       Area Code   Area  Item Code   Item  Element Code  Element   Unit  \\\n",
       "0          False  False      False  False         False    False  False   \n",
       "1          False  False      False  False         False    False  False   \n",
       "2          False  False      False  False         False    False  False   \n",
       "3          False  False      False  False         False    False  False   \n",
       "4          False  False      False  False         False    False  False   \n",
       "...          ...    ...        ...    ...           ...      ...    ...   \n",
       "60938      False  False      False  False         False    False  False   \n",
       "60939      False  False      False  False         False    False  False   \n",
       "60940      False  False      False  False         False    False  False   \n",
       "60941      False  False      False  False         False    False  False   \n",
       "60942      False  False      False  False         False    False  False   \n",
       "\n",
       "       Y2014  Y2015  Y2016  Y2017  Y2018  \n",
       "0      False  False  False  False  False  \n",
       "1      False  False  False  False  False  \n",
       "2      False  False  False  False  False  \n",
       "3      False  False  False  False  False  \n",
       "4      False  False  False  False  False  \n",
       "...      ...    ...    ...    ...    ...  \n",
       "60938  False  False  False  False  False  \n",
       "60939  False  False  False  False  False  \n",
       "60940  False  False  False  False  False  \n",
       "60941  False  False  False  False  False  \n",
       "60942  False  False  False  False  False  \n",
       "\n",
       "[60943 rows x 12 columns]"
      ]
     },
     "execution_count": 7,
     "metadata": {},
     "output_type": "execute_result"
    }
   ],
   "source": [
    "df.isnull()"
   ]
  },
  {
   "cell_type": "code",
   "execution_count": 8,
   "id": "fe0f89e2",
   "metadata": {},
   "outputs": [
    {
     "data": {
      "text/plain": [
       "Area Code          0\n",
       "Area               0\n",
       "Item Code          0\n",
       "Item               0\n",
       "Element Code       0\n",
       "Element            0\n",
       "Unit               0\n",
       "Y2014           1589\n",
       "Y2015           1548\n",
       "Y2016           1535\n",
       "Y2017           1506\n",
       "Y2018           1436\n",
       "dtype: int64"
      ]
     },
     "execution_count": 8,
     "metadata": {},
     "output_type": "execute_result"
    }
   ],
   "source": [
    "df.isnull().sum() "
   ]
  },
  {
   "cell_type": "code",
   "execution_count": 9,
   "id": "b52d8163",
   "metadata": {},
   "outputs": [
    {
     "data": {
      "text/plain": [
       "array(['Algeria', 'Angola', 'Benin', 'Botswana', 'Burkina Faso',\n",
       "       'Cabo Verde', 'Cameroon', 'Central African Republic', 'Chad',\n",
       "       'Comoros', 'Congo', \"Côte d'Ivoire\", 'Djibouti', 'Egypt',\n",
       "       'Eswatini', 'Ethiopia', 'Ethiopia PDR', 'Gabon', 'Gambia', 'Ghana',\n",
       "       'Guinea', 'Guinea-Bissau', 'Kenya', 'Lesotho', 'Liberia',\n",
       "       'Madagascar', 'Malawi', 'Mali', 'Mauritania', 'Mauritius',\n",
       "       'Morocco', 'Mozambique', 'Namibia', 'Niger', 'Nigeria', 'Rwanda',\n",
       "       'Sao Tome and Principe', 'Senegal', 'Seychelles', 'Sierra Leone',\n",
       "       'South Africa', 'Sudan', 'Sudan (former)', 'Togo', 'Tunisia',\n",
       "       'Uganda', 'United Republic of Tanzania', 'Zambia', 'Zimbabwe'],\n",
       "      dtype=object)"
      ]
     },
     "execution_count": 9,
     "metadata": {},
     "output_type": "execute_result"
    }
   ],
   "source": [
    "df[\"Area\"].unique()"
   ]
  },
  {
   "cell_type": "code",
   "execution_count": 10,
   "id": "940ef34e",
   "metadata": {},
   "outputs": [
    {
     "data": {
      "text/plain": [
       "array(['Population', 'Grand Total', 'Vegetal Products', 'Animal Products',\n",
       "       'Cereals - Excluding Beer', 'Wheat and products',\n",
       "       'Rice and products', 'Barley and products', 'Maize and products',\n",
       "       'Rye and products', 'Oats', 'Millet and products',\n",
       "       'Sorghum and products', 'Cereals, Other', 'Starchy Roots',\n",
       "       'Cassava and products', 'Potatoes and products', 'Sweet potatoes',\n",
       "       'Yams', 'Roots, Other', 'Sugar Crops', 'Sugar cane', 'Sugar beet',\n",
       "       'Sugar & Sweeteners', 'Sugar (Raw Equivalent)',\n",
       "       'Sweeteners, Other', 'Honey', 'Pulses', 'Beans', 'Peas',\n",
       "       'Pulses, Other and products', 'Treenuts', 'Nuts and products',\n",
       "       'Oilcrops', 'Soyabeans', 'Groundnuts (Shelled Eq)',\n",
       "       'Sunflower seed', 'Rape and Mustardseed', 'Cottonseed',\n",
       "       'Coconuts - Incl Copra', 'Sesame seed',\n",
       "       'Olives (including preserved)', 'Oilcrops, Other',\n",
       "       'Vegetable Oils', 'Soyabean Oil', 'Groundnut Oil',\n",
       "       'Sunflowerseed Oil', 'Rape and Mustard Oil', 'Cottonseed Oil',\n",
       "       'Palmkernel Oil', 'Palm Oil', 'Coconut Oil', 'Sesameseed Oil',\n",
       "       'Olive Oil', 'Maize Germ Oil', 'Oilcrops Oil, Other', 'Vegetables',\n",
       "       'Tomatoes and products', 'Onions', 'Vegetables, Other',\n",
       "       'Fruits - Excluding Wine', 'Oranges, Mandarines',\n",
       "       'Lemons, Limes and products', 'Grapefruit and products',\n",
       "       'Citrus, Other', 'Bananas', 'Plantains', 'Apples and products',\n",
       "       'Pineapples and products', 'Dates',\n",
       "       'Grapes and products (excl wine)', 'Fruits, Other', 'Stimulants',\n",
       "       'Coffee and products', 'Cocoa Beans and products',\n",
       "       'Tea (including mate)', 'Spices', 'Pepper', 'Pimento', 'Cloves',\n",
       "       'Spices, Other', 'Alcoholic Beverages', 'Wine', 'Beer',\n",
       "       'Beverages, Fermented', 'Beverages, Alcoholic',\n",
       "       'Alcohol, Non-Food', 'Meat', 'Bovine Meat', 'Mutton & Goat Meat',\n",
       "       'Pigmeat', 'Poultry Meat', 'Meat, Other', 'Offals',\n",
       "       'Offals, Edible', 'Animal fats', 'Butter, Ghee', 'Cream',\n",
       "       'Fats, Animals, Raw', 'Fish, Body Oil', 'Fish, Liver Oil', 'Eggs',\n",
       "       'Milk - Excluding Butter', 'Fish, Seafood', 'Freshwater Fish',\n",
       "       'Demersal Fish', 'Pelagic Fish', 'Marine Fish, Other',\n",
       "       'Crustaceans', 'Cephalopods', 'Molluscs, Other',\n",
       "       'Aquatic Products, Other', 'Aquatic Animals, Others',\n",
       "       'Aquatic Plants', 'Miscellaneous', 'Infant food',\n",
       "       'Sugar non-centrifugal', 'Palm kernels', 'Ricebran Oil'],\n",
       "      dtype=object)"
      ]
     },
     "execution_count": 10,
     "metadata": {},
     "output_type": "execute_result"
    }
   ],
   "source": [
    "df[\"Item\"].unique()"
   ]
  },
  {
   "cell_type": "code",
   "execution_count": 11,
   "id": "7550b9b9",
   "metadata": {},
   "outputs": [
    {
     "data": {
      "text/plain": [
       "array(['Total Population - Both sexes', 'Domestic supply quantity',\n",
       "       'Food supply (kcal/capita/day)',\n",
       "       'Protein supply quantity (g/capita/day)',\n",
       "       'Fat supply quantity (g/capita/day)', 'Production',\n",
       "       'Import Quantity', 'Stock Variation', 'Export Quantity', 'Feed',\n",
       "       'Seed', 'Losses', 'Processing', 'Other uses (non-food)',\n",
       "       'Residuals', 'Food', 'Food supply quantity (kg/capita/yr)',\n",
       "       'Tourist consumption'], dtype=object)"
      ]
     },
     "execution_count": 11,
     "metadata": {},
     "output_type": "execute_result"
    }
   ],
   "source": [
    "df[\"Element\"].unique()"
   ]
  },
  {
   "cell_type": "code",
   "execution_count": 12,
   "id": "ad3ac153",
   "metadata": {},
   "outputs": [
    {
     "name": "stdout",
     "output_type": "stream",
     "text": [
      "Mean of 2015 data is 135.236\n",
      "Standard deviation of 2015 data is 1603.39\n"
     ]
    }
   ],
   "source": [
    "# No 12 mean and standard deviation of 2018 data\n",
    "y_2015=df.loc[:,\"Y2015\"]\n",
    "y=np.mean(y_2015)\n",
    "x=np.std(y_2015)\n",
    "print(\"Mean of 2015 data is\", (round(y, 3)))\n",
    "print(\"Standard deviation of 2015 data is\", (round(x, 3)))"
   ]
  },
  {
   "cell_type": "code",
   "execution_count": 13,
   "id": "cad118b6",
   "metadata": {},
   "outputs": [
    {
     "name": "stdout",
     "output_type": "stream",
     "text": [
      "percentage of null data in 2016 is 2.52\n"
     ]
    }
   ],
   "source": [
    "# No 13 % of null data 2016\n",
    "y_2016=df.loc[:,\"Y2016\"]\n",
    "y_2016_nullsum=y_2016.isnull().sum()\n",
    "\n",
    "percentage=(y_2016_nullsum/len(y_2016))*100\n",
    "print(\"percentage of null data in 2016 is\", percentage.round(2))"
   ]
  },
  {
   "cell_type": "code",
   "execution_count": 14,
   "id": "b579d3da",
   "metadata": {},
   "outputs": [
    {
     "name": "stdout",
     "output_type": "stream",
     "text": [
      "The year with the highest correlation with Element code is Y2014\n"
     ]
    }
   ],
   "source": [
    "# No 14 year with the highest correlation with the element code\n",
    "corr_year= df.corr()[\"Element Code\"][\"Y2014\":\"Y2018\"] \n",
    "\n",
    "high_corr_year = corr_year.index[np.argmax(corr_year)]\n",
    "print (\"The year with the highest correlation with Element code is\", high_corr_year)"
   ]
  },
  {
   "cell_type": "code",
   "execution_count": 15,
   "id": "c553efd5",
   "metadata": {},
   "outputs": [
    {
     "name": "stdout",
     "output_type": "stream",
     "text": [
      "The highest sum of import quantity is $ 294559.09  in  Y2017\n"
     ]
    }
   ],
   "source": [
    "# No 15 highest sum of import quantity\n",
    "Element = df.groupby(\"Element\").sum()\n",
    "\n",
    "Elements = Element.loc[\"Import Quantity\"][\"Y2014\":\"Y2018\"]\n",
    "\n",
    "high_year=Elements.index[np.argmax(Elements)]\n",
    "print(\"The highest sum of import quantity is $\",Elements.max(), \" in \", high_year)\n"
   ]
  },
  {
   "cell_type": "code",
   "execution_count": 16,
   "id": "bcf593cb",
   "metadata": {},
   "outputs": [
    {
     "name": "stdout",
     "output_type": "stream",
     "text": [
      "The total sum of production in 2014 is $ 1931287.75\n"
     ]
    }
   ],
   "source": [
    "# No 16 total production in 2014\n",
    "print (\"The total sum of production in 2014 is $\", Element.loc[\"Production\",\"Y2014\"])\n"
   ]
  },
  {
   "cell_type": "code",
   "execution_count": 17,
   "id": "da528c57",
   "metadata": {},
   "outputs": [
    {
     "name": "stdout",
     "output_type": "stream",
     "text": [
      "The highest Element for 2018 is Domestic supply quantity with $ 2161192.1\n"
     ]
    }
   ],
   "source": [
    "# No 17 Element with the highest sum in 2018\n",
    "Element_max = Element[\"Y2018\"].max()\n",
    "high_2018 = Element.index[np.argmax(Element [\"Y2018\"])]\n",
    "\n",
    "print (\"The highest Element for 2018 is\", high_2018, \"with $\", Element_max) "
   ]
  },
  {
   "cell_type": "code",
   "execution_count": 18,
   "id": "fd37cc78",
   "metadata": {},
   "outputs": [
    {
     "name": "stdout",
     "output_type": "stream",
     "text": [
      "The element with the third lowest sum in 2018 is Protein supply quantity (g/capita/day) with $ 11833.56\n"
     ]
    }
   ],
   "source": [
    "# No 18 Element with the third lowest sum in 2018\n",
    "s_element = Element.copy().sort_values(\"Y2018\") \n",
    "\n",
    "third_lowest= s_element.iloc[2,-1]\n",
    "third_Element = s_element.index[2]\n",
    "\n",
    "print(\"The element with the third lowest sum in 2018 is\", third_Element, \"with $\", third_lowest)\n"
   ]
  },
  {
   "cell_type": "code",
   "execution_count": 22,
   "id": "02825c61",
   "metadata": {},
   "outputs": [
    {
     "name": "stdout",
     "output_type": "stream",
     "text": [
      "The total import quantity in Algeria in 2018 is $ 36238.29\n"
     ]
    }
   ],
   "source": [
    "# no 19 total quantity import in algeria in 2018\n",
    "import_quantity= df[df[\"Element\"] == \"Import Quantity\"].groupby([\"Area\",\"Element\"]).sum() \n",
    "\n",
    "Algeria_import_2018 = import_quantity.loc[\"Algeria\",\"Y2018\"][0]\n",
    "print (\"The total import quantity in Algeria in 2018 is $\", Algeria_import_2018)\n"
   ]
  },
  {
   "cell_type": "code",
   "execution_count": 21,
   "id": "7bcd7e42",
   "metadata": {},
   "outputs": [
    {
     "name": "stdout",
     "output_type": "stream",
     "text": [
      "Total number of countries is 49\n"
     ]
    }
   ],
   "source": [
    "# No 20 total number of countries\n",
    "no_countries = len(df[\"Area\"].unique())\n",
    "print(\"Total number of countries is\", no_countries)"
   ]
  },
  {
   "cell_type": "code",
   "execution_count": null,
   "id": "6516152d",
   "metadata": {},
   "outputs": [],
   "source": []
  }
 ],
 "metadata": {
  "kernelspec": {
   "display_name": "Python 3 (ipykernel)",
   "language": "python",
   "name": "python3"
  },
  "language_info": {
   "codemirror_mode": {
    "name": "ipython",
    "version": 3
   },
   "file_extension": ".py",
   "mimetype": "text/x-python",
   "name": "python",
   "nbconvert_exporter": "python",
   "pygments_lexer": "ipython3",
   "version": "3.9.7"
  }
 },
 "nbformat": 4,
 "nbformat_minor": 5
}
